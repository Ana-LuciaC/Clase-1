{
 "cells": [
  {
   "cell_type": "code",
   "execution_count": 1,
   "metadata": {
    "scrolled": true
   },
   "outputs": [
    {
     "name": "stdout",
     "output_type": "stream",
     "text": [
      "Hola Mundo\n"
     ]
    }
   ],
   "source": [
    "print(\"Hola Mundo\")"
   ]
  },
  {
   "cell_type": "markdown",
   "metadata": {},
   "source": [
    "# Ejercicio 1\n",
    "\n",
    "El if es una instrucción lógica que resuelve un problema de tipo booleano, forma parte de lo que se denomina instrucciones condicionales."
   ]
  },
  {
   "cell_type": "code",
   "execution_count": 2,
   "metadata": {},
   "outputs": [
    {
     "name": "stdout",
     "output_type": "stream",
     "text": [
      "Puede tomar cerveza\n"
     ]
    }
   ],
   "source": [
    "##Ejercicio 1 \n",
    "# Primera versión \n",
    "\n",
    "edad = 18\n",
    "if edad >= 18:\n",
    "    print(\"Puede tomar cerveza\")\n",
    "else:\n",
    "    print(\"NO puede tomar cerveza\")"
   ]
  },
  {
   "cell_type": "code",
   "execution_count": 4,
   "metadata": {},
   "outputs": [
    {
     "name": "stdout",
     "output_type": "stream",
     "text": [
      "Ingrese la edad:15\n",
      "NO puede tomar cerveza\n"
     ]
    }
   ],
   "source": [
    "# Segunda versión \n",
    "\n",
    "edad = int(input(\"Ingrese la edad:\"))\n",
    "if edad >= 18:\n",
    "    print(\"Puede tomar cerveza\")\n",
    "else:\n",
    "    print(\"NO puede tomar cerveza\")"
   ]
  },
  {
   "cell_type": "code",
   "execution_count": 9,
   "metadata": {},
   "outputs": [],
   "source": [
    "#Tercera versión \n",
    "    \n",
    "def ejercicio1(edad):\n",
    "    if edad >= 18:\n",
    "        print(\"Puede tomar cerveza\")\n",
    "    else:\n",
    "        print(\"NO puede tomar cerveza\")"
   ]
  },
  {
   "cell_type": "code",
   "execution_count": 10,
   "metadata": {},
   "outputs": [
    {
     "name": "stdout",
     "output_type": "stream",
     "text": [
      "Ingrese la edad:15\n",
      "NO puede tomar cerveza\n"
     ]
    }
   ],
   "source": [
    "ejercicio1(int(input(\"Ingrese la edad:\")))"
   ]
  },
  {
   "cell_type": "markdown",
   "metadata": {},
   "source": [
    " Ejercicio 2"
   ]
  },
  {
   "cell_type": "code",
   "execution_count": 30,
   "metadata": {},
   "outputs": [
    {
     "name": "stdout",
     "output_type": "stream",
     "text": [
      "compro aguila\n"
     ]
    }
   ],
   "source": [
    "marca = 'aguila'\n",
    "\n",
    "if marca == 'Budweiser':\n",
    "    print('Compro', marca) #forma recomendada\n",
    "    #print('compro' + marca)\n",
    "    \n",
    "elif marca == 'aguila':\n",
    "    print ('compro', marca)\n",
    "elif marca == 'poker':\n",
    "    print ('compro', marca)\n",
    "elif marca == 'redds':\n",
    "    print ('compro', marca)\n",
    "else:\n",
    "    print('No compro nada')"
   ]
  },
  {
   "cell_type": "code",
   "execution_count": 18,
   "metadata": {},
   "outputs": [
    {
     "name": "stdout",
     "output_type": "stream",
     "text": [
      "trm del dia = 3500\n"
     ]
    }
   ],
   "source": [
    "trm = 3500\n",
    "print('trm del dia =', trm)\n"
   ]
  },
  {
   "cell_type": "code",
   "execution_count": 31,
   "metadata": {},
   "outputs": [
    {
     "name": "stdout",
     "output_type": "stream",
     "text": [
      "None\n",
      "2\n",
      "2\n",
      "2.5\n"
     ]
    }
   ],
   "source": [
    "marca2 = None\n",
    "print(marca2)\n",
    "marca2 = '2'\n",
    "print(marca2)\n",
    "marca2 = 2\n",
    "print(marca2)\n",
    "marca2 = 2.5\n",
    "print(marca2)"
   ]
  },
  {
   "cell_type": "code",
   "execution_count": 33,
   "metadata": {},
   "outputs": [
    {
     "name": "stdout",
     "output_type": "stream",
     "text": [
      "<class 'NoneType'>\n",
      "<class 'str'>\n",
      "<class 'int'>\n",
      "<class 'float'>\n"
     ]
    }
   ],
   "source": [
    "marca2 = None\n",
    "print(type(marca2))\n",
    "marca2 = '2'\n",
    "print(type(marca2))\n",
    "marca2 = 2\n",
    "print(type(marca2))\n",
    "marca2 = 2.5\n",
    "print(type(marca2))"
   ]
  },
  {
   "cell_type": "code",
   "execution_count": 37,
   "metadata": {},
   "outputs": [
    {
     "name": "stdout",
     "output_type": "stream",
     "text": [
      "aguila\n",
      "AGUILA\n",
      "compro AguiLa\n"
     ]
    }
   ],
   "source": [
    "marca = 'AguiLa'\n",
    "\n",
    "print(marca.lower())\n",
    "print(marca.upper())\n",
    "if marca.lower() == 'Budweiser':\n",
    "    print('Compro', marca) #forma recomendada\n",
    "    #print('compro' + marca)\n",
    "    \n",
    "elif marca.lower() == 'aguila':\n",
    "    print ('compro', marca)\n",
    "elif marca.lower() == 'poker':\n",
    "    print ('compro', marca)\n",
    "elif marca.lower() == 'redds':\n",
    "    print ('compro', marca)\n",
    "else:\n",
    "    print('No compro nada')"
   ]
  },
  {
   "cell_type": "code",
   "execution_count": 46,
   "metadata": {},
   "outputs": [
    {
     "name": "stdout",
     "output_type": "stream",
     "text": [
      "Ingrese la marcaredds\n",
      "redds\n",
      "REDDS\n",
      "compro redds\n"
     ]
    }
   ],
   "source": [
    "marca = input(\"Ingrese la marca\")\n",
    "\n",
    "print(marca.lower())\n",
    "print(marca.upper())\n",
    "\n",
    "if marca.lower() == 'Budweiser':\n",
    "    print('Compro', marca) #forma recomendada\n",
    "    #print('compro' + marca)\n",
    "    \n",
    "elif marca.lower() == 'aguila':\n",
    "    print ('compro', marca)\n",
    "elif marca.lower() == 'poker':\n",
    "    print ('compro', marca)\n",
    "elif marca.lower() == 'redds':\n",
    "    print ('compro', marca)\n",
    "else:\n",
    "    print('No compro nada')"
   ]
  },
  {
   "cell_type": "code",
   "execution_count": 47,
   "metadata": {},
   "outputs": [],
   "source": [
    "def ejercicio2():\n",
    "        marca = input(\"Ingrese la marca\")\n",
    "        if marca.lower() == 'Budweiser':\n",
    "            print('Compro', marca) #forma recomendada\n",
    "            #print('compro' + marca)\n",
    "        elif marca.lower() == 'aguila':\n",
    "            print ('compro', marca)\n",
    "        elif marca.lower() == 'poker':\n",
    "            print ('compro', marca)\n",
    "        elif marca.lower() == 'redds':\n",
    "            print ('compro', marca)\n",
    "        else:\n",
    "            print('No compro nada')"
   ]
  },
  {
   "cell_type": "code",
   "execution_count": 50,
   "metadata": {},
   "outputs": [
    {
     "name": "stdout",
     "output_type": "stream",
     "text": [
      "Ingrese la marcaaguila\n",
      "compro aguila\n"
     ]
    }
   ],
   "source": [
    "ejercicio2()"
   ]
  },
  {
   "cell_type": "code",
   "execution_count": null,
   "metadata": {},
   "outputs": [],
   "source": []
  }
 ],
 "metadata": {
  "kernelspec": {
   "display_name": "Python 3",
   "language": "python",
   "name": "python3"
  },
  "language_info": {
   "codemirror_mode": {
    "name": "ipython",
    "version": 3
   },
   "file_extension": ".py",
   "mimetype": "text/x-python",
   "name": "python",
   "nbconvert_exporter": "python",
   "pygments_lexer": "ipython3",
   "version": "3.8.5"
  }
 },
 "nbformat": 4,
 "nbformat_minor": 4
}
